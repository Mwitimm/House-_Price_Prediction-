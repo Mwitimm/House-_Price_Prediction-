{
 "cells": [
  {
   "cell_type": "code",
   "execution_count": 1,
   "metadata": {},
   "outputs": [
    {
     "name": "stdout",
     "output_type": "stream",
     "text": [
      "                   Agency                             Neighborhood  \\\n",
      "0       Buy Rent Shelters              General Mathenge, Westlands   \n",
      "1     Kenya Classic Homes                Kilimani, Dagoretti North   \n",
      "2  Absolute Estate Agents  Hatheru Rd,, Lavington, Dagoretti North   \n",
      "3   A1 Properties Limited                Kilimani, Dagoretti North   \n",
      "4     Pmc Estates Limited                    Imara Daima, Embakasi   \n",
      "\n",
      "         Price                                               link  sq_mtrs  \\\n",
      "0  KSh 155,000  /listings/4-bedroom-apartment-for-rent-general...      4.0   \n",
      "1  KSh 100,000  /listings/3-bedroom-apartment-for-rent-kiliman...    300.0   \n",
      "2   KSh 75,000  /listings/3-bedroom-apartment-for-rent-lavingt...      3.0   \n",
      "3  KSh 135,000  /listings/3-bedroom-apartment-for-rent-kiliman...    227.0   \n",
      "4   KSh 50,000  /listings/3-bedroom-apartment-for-rent-imara-d...      3.0   \n",
      "\n",
      "   Bedrooms  Bathrooms  \n",
      "0       4.0        4.0  \n",
      "1       3.0        4.0  \n",
      "2       3.0        5.0  \n",
      "3       3.0        4.0  \n",
      "4       3.0        NaN  \n"
     ]
    }
   ],
   "source": [
    "import pandas as pd\n",
    "\n",
    "\n",
    "path= \"Data/rent_apts.csv\"\n",
    "\n",
    "data =  pd.read_csv(path)\n",
    "\n",
    "print(data.head(5))"
   ]
  },
  {
   "cell_type": "code",
   "execution_count": null,
   "metadata": {},
   "outputs": [],
   "source": []
  }
 ],
 "metadata": {
  "kernelspec": {
   "display_name": "Python 3",
   "language": "python",
   "name": "python3"
  },
  "language_info": {
   "codemirror_mode": {
    "name": "ipython",
    "version": 3
   },
   "file_extension": ".py",
   "mimetype": "text/x-python",
   "name": "python",
   "nbconvert_exporter": "python",
   "pygments_lexer": "ipython3",
   "version": "3.11.3"
  },
  "orig_nbformat": 4
 },
 "nbformat": 4,
 "nbformat_minor": 2
}
